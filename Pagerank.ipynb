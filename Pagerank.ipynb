{
 "cells": [
  {
   "cell_type": "code",
   "execution_count": 1,
   "metadata": {
    "collapsed": true
   },
   "outputs": [],
   "source": [
    "from Retriever import Retriever\n",
    "R = Retriever()"
   ]
  },
  {
   "cell_type": "code",
   "execution_count": 2,
   "metadata": {
    "collapsed": true
   },
   "outputs": [],
   "source": [
    "# pagerank updates for random names\n",
    "res = R.fetch_objects(size=200)"
   ]
  },
  {
   "cell_type": "code",
   "execution_count": 4,
   "metadata": {},
   "outputs": [
    {
     "name": "stdout",
     "output_type": "stream",
     "text": [
      "iteration 0\n",
      "iteration 2000\n",
      "iteration 4000\n",
      "iteration 6000\n",
      "iteration 8000\n"
     ]
    }
   ],
   "source": [
    "n_iterations = 10000\n",
    "d = 0.7\n",
    "n = float(len(res.keys()))\n",
    "\n",
    "for i in range(n_iterations):\n",
    "    # for each name...\n",
    "    for k, v in res.items():\n",
    "        \n",
    "        # calculate pagerank...\n",
    "        updated_prob = (1-d) * 1/n\n",
    "        \n",
    "        # ...by inspecting its parents\n",
    "        for parent_node in v.parents:\n",
    "            # parents with high pageranks but few outbound are best\n",
    "            updated_prob += d * (parent_node.pagerank)/parent_node.n_children\n",
    "        \n",
    "        # update node's pagerank\n",
    "        v.update_pagerank(updated_prob)\n",
    "    \n",
    "    if i % (n_iterations / 5) == 0:\n",
    "        print(\"iteration\", i)"
   ]
  },
  {
   "cell_type": "code",
   "execution_count": 6,
   "metadata": {},
   "outputs": [
    {
     "name": "stdout",
     "output_type": "stream",
     "text": [
      "success\n"
     ]
    }
   ],
   "source": [
    "R.put_objects(res)"
   ]
  },
  {
   "cell_type": "code",
   "execution_count": 7,
   "metadata": {},
   "outputs": [
    {
     "name": "stdout",
     "output_type": "stream",
     "text": [
      "nightwing891 1.6809012189672077 48\n",
      "pietv 1.5230468989501007 17\n",
      "heathdutton 3.4610012198945075 217\n",
      "defunkt 6.0347751916730275 16772\n",
      "ozee 2.5159971103841934 31\n",
      "carlodicelico 3.143701578789047 32\n",
      "ryanb 1.266157066024997 7028\n",
      "xieguigang 3.950346885825352 135\n",
      "rod-lin 1.3851228218049352 890\n",
      "linnealovespie 1.1441218708827405 6\n",
      "kroitor 9.843403729640803 487\n",
      "kashyaparjun 1.291169215495227 20\n",
      "gabazureus 1.0098030313644983 24\n",
      "dirkliu 2.399244401200054 85\n",
      "perlancar 2.3359578071514338 189\n",
      "tzq668766 1.0609689476361874 109\n",
      "tlarsin 1.6278406120023767 8\n",
      "JonatanSalas 2.2751342405408352 93\n"
     ]
    }
   ],
   "source": [
    "for k, v in res.items():\n",
    "    if v.pagerank > 1:\n",
    "        print(v.name, v.pagerank, v.n_parents)"
   ]
  },
  {
   "cell_type": "code",
   "execution_count": 18,
   "metadata": {},
   "outputs": [
    {
     "name": "stdout",
     "output_type": "stream",
     "text": [
      ">> inspecting... mynameisvinn\n",
      ">>> 16 parents\n",
      ">>> 56 children\n",
      ">>> 16 parent objects\n",
      ">>> 0.44085558079859183 pagerank\n"
     ]
    }
   ],
   "source": [
    "from util import Pyswiss, introspect\n",
    "client = Pyswiss()\n",
    "from util import introspect\n",
    "\n",
    "node = client.get(\"pyrank\", \"mynameisvinn\")\n",
    "introspect(node)"
   ]
  },
  {
   "cell_type": "code",
   "execution_count": null,
   "metadata": {
    "collapsed": true
   },
   "outputs": [],
   "source": []
  }
 ],
 "metadata": {
  "kernelspec": {
   "display_name": "Python 3",
   "language": "python",
   "name": "python3"
  },
  "language_info": {
   "codemirror_mode": {
    "name": "ipython",
    "version": 3
   },
   "file_extension": ".py",
   "mimetype": "text/x-python",
   "name": "python",
   "nbconvert_exporter": "python",
   "pygments_lexer": "ipython3",
   "version": "3.6.3"
  }
 },
 "nbformat": 4,
 "nbformat_minor": 2
}
