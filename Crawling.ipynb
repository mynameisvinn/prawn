{
 "cells": [
  {
   "cell_type": "code",
   "execution_count": 221,
   "metadata": {
    "collapsed": true
   },
   "outputs": [],
   "source": [
    "t = \"9d8dd86d5eac41401dd616d1dd5c1ddf91e2ce6b\"\n",
    "# t = \"a466afd7f72bc2fa574fa0e2c8d6bf5fb29a4a1d\""
   ]
  },
  {
   "cell_type": "code",
   "execution_count": 9,
   "metadata": {
    "collapsed": true
   },
   "outputs": [],
   "source": [
    "from githon import GithubApi  # https://github.com/goVulpi/githon\n",
    "import random\n",
    "from util import introspect\n",
    "\n",
    "def create_new_node(session, curr_name):\n",
    "    stats = gh.user_by_username(curr_name)\n",
    "    curr_n_parents = stats['followers']\n",
    "    curr_n_children = stats['following']\n",
    "    parents = []  # manually update parents at some other time\n",
    "    pagerank = 1\n",
    "    _ = _update_collection(session, curr_name, curr_n_parents, curr_n_children, pagerank, parents)\n",
    "    \n",
    "def _update_collection(session, name, n_parents, n_children, pagerank, parents):\n",
    "    \"\"\"ask session context to update collection.\n",
    "    \"\"\"\n",
    "    doc = {\"name\": name, \n",
    "           \"n_parents\": n_parents, \n",
    "           \"n_children\": n_children, \n",
    "           \"pagerank\": pagerank,\n",
    "           \"parents\": parents\n",
    "          }\n",
    "    session.insert_one(doc)\n",
    "    \n",
    "def _exists(session, name):\n",
    "    \"\"\"check if name has been evaluated before.\n",
    "    \"\"\"\n",
    "    return (type(session.find_one({\"name\": name}))) is dict\n",
    "\n",
    "import random\n",
    "def fetch_next_node(session, curr):\n",
    "    \"\"\"\n",
    "    given a current user, randomly select one of its parents.\n",
    "    \"\"\"\n",
    "    ls_parents = session.find_one({\"name\": curr})['parents']\n",
    "    \n",
    "    # scenario 1: curr doesnt have parents, so jump to norvig\n",
    "    if len(ls_parents) == 0:\n",
    "        next_node = \"norvig\"\n",
    "    # scenario 2: select random follower as next node\n",
    "    else:\n",
    "        next_node = random.choice(ls_parents)\n",
    "    return next_node"
   ]
  },
  {
   "cell_type": "code",
   "execution_count": 35,
   "metadata": {},
   "outputs": [
    {
     "data": {
      "text/plain": [
       "['admin', 'config', 'local']"
      ]
     },
     "execution_count": 35,
     "metadata": {},
     "output_type": "execute_result"
    }
   ],
   "source": [
    "from pymongo import MongoClient\n",
    "client = MongoClient()\n",
    "client.database_names()\n",
    "\n",
    "# ask client to drop developers collection\n",
    "# client['prawn'].drop_collection('developers')"
   ]
  },
  {
   "cell_type": "code",
   "execution_count": 36,
   "metadata": {
    "collapsed": true
   },
   "outputs": [],
   "source": [
    "# sc is a session pointing to a new collection called \"developers\"\n",
    "sc = client['prawn']['developers']"
   ]
  },
  {
   "cell_type": "code",
   "execution_count": null,
   "metadata": {
    "collapsed": true
   },
   "outputs": [],
   "source": [
    "gh = GithubApi(t)\n",
    "counter = 800\n",
    "\n",
    "curr_name = \"norvig\"\n",
    "\n",
    "while counter > 0:\n",
    "    print(\"{} eval {}\".format(counter, curr_name))\n",
    "    \n",
    "    # scenario 1: if new name, then insert entry into collection\n",
    "    if not _exists(sc, curr_name):\n",
    "        _ = create_new_node(sc, curr_name)\n",
    "    \n",
    "    # scenario 2: seen it before, keep moving\n",
    "    else:\n",
    "        pass\n",
    "        \n",
    "    # find new node from curr node's parents\n",
    "    curr_name = fetch_next_node(sc, curr_name)\n",
    "    counter -= 1"
   ]
  },
  {
   "cell_type": "code",
   "execution_count": null,
   "metadata": {
    "collapsed": true
   },
   "outputs": [],
   "source": [
    "cursor = sc.find({})\n",
    "for i, doc in enumerate(cursor):\n",
    "    print(i, doc['name'], doc['n_parents'])"
   ]
  },
  {
   "cell_type": "code",
   "execution_count": 228,
   "metadata": {},
   "outputs": [
    {
     "data": {
      "text/plain": [
       "{'_id': ObjectId('5ac15b25cd530c042e1f3a92'),\n",
       " 'n_children': 56,\n",
       " 'n_parents': 17,\n",
       " 'name': 'mynameisvinn',\n",
       " 'pagerank': 1,\n",
       " 'parents': ['chloroplast15',\n",
       "  'suriyadeepan',\n",
       "  'nishanth-pinnapareddy',\n",
       "  'jostmey',\n",
       "  'jay-johnson',\n",
       "  'skylvr1289',\n",
       "  'imsrgadich',\n",
       "  'vanangamudi',\n",
       "  'abhiramr',\n",
       "  'KevinHock',\n",
       "  'ecantor',\n",
       "  'Dim25',\n",
       "  'samsheff',\n",
       "  'vvanarasi',\n",
       "  'Apoorv1998-Sopho',\n",
       "  'joannatang2007',\n",
       "  'knowsuchagency']}"
      ]
     },
     "execution_count": 228,
     "metadata": {},
     "output_type": "execute_result"
    }
   ],
   "source": [
    "sc.find_one({\"name\":\"mynameisvinn\"})"
   ]
  },
  {
   "cell_type": "code",
   "execution_count": 2,
   "metadata": {},
   "outputs": [
    {
     "name": "stdout",
     "output_type": "stream",
     "text": [
      "1\n",
      "['hargup', 'vineela12', 'yannickwurm', 'nevinvalsaraj', '0000dev', 'palashmittal', 'wwood', 'biswajitsc', 'ma08', 'saketkc', 'shelt', 'ankeshanand', 'anujmenta', 'kumarkrishna', 'abhinavjain241', 'kalyan-kumar', 'IsmailM', 'aseempatni', 'angusshire', 'sanyam5', 'bmpvieira', 'aktech', 'Komchi', 'dvlpmnt', 'Masssly', 'navise', 'luvagarwal', 'KuZon', 'gabrielpconceicao', 'zorroblue']\n",
      "2\n",
      "['Nood-cs', 'icyflame', 'AshutoshPrakash', 'brunocasanova', 'cusspvz', 'meetjoshi', 'mlegy', 'nanabingies', 'alex-cory', 'petk', 'lovishpuri', 'D132', 'arnaghosh', 'surajit-techie', 'yasintoy', 'deividazevedo2', 'khalibartan', 'PeytonsProfile', 'AlexisOhanian', 'naresh-chaudhary', 'shubham5', 'adityasarma96', 'NipunTalwar', 'amananiket', 'janga1997', 'Ballinger1215', 'asifzubair', 'dadaromeo', 'pravj', 'cjgunase']\n",
      "3\n",
      "['amitmerchant1990', 'kaustubhhiware', 'kingofools', 'audy', 'abhinavcoder', 'cmdcolin', 'anuraganand', 'dhruvjain', 'ManashRaja', 'ragnarbreak', 'deeppar', 'tushar-dubey', 'athityakumar', 'cachemoi', 'sourishg', 'erictleung', 'ghostwriternr', 'madhusriram', 'BrindhaBioinfo', 'b18arundhati', 'evinw', 'alisianoi', 'mousam05', 'LJ001', 'Demfier', 'JohnnyBizzel', 'ArnabBir', 'Linux-Player', 'madan96', 'lucasbento']\n",
      "4\n",
      "['SaumoPal97', 'basher666', 'SRvSaha', 'NPSDC', 'pranitbauva1997', 'gawbul', 'kunal-iitkgp', 'gauravgardi', 'cara06', 'pruthvipatel', 'aradhyamakkar97', 'AchyutaAich', 'jiachongliu', 'pawanaichra', 'Nduna-Maduna', 'rava-dosa', 'sukeesh', 'vivekn1', 'saksham0037', 'siddharthjindal1997', 'khetanmayank', 'dilipkumarmaurya', 'anweshknayak', 'dibyadas', 'Parth-Vader', 'jpruiz114', 'suryansh2020', 'manu-chroma', 'hemkum', 'Vermisse']\n",
      "5\n",
      "['shivani29456', 'RorschachTest', 'sipah00', 'sunlizhi', 'rakeshbal99', 'BioCogito', 'tuqiang2014', 'nfultz', 'dalinhuang99', 'mstraughan86', 'harishnandan', 'shankara036', 'keerthanpg', 'the-ethan-hunt', 'tejanhu', 'EclipseMain', 'minsle', 'nish1998', 'TheMousePotato', 'endrebak', 'freestatman', 'thealphadollar', 'Bunlong']\n",
      "6\n",
      "[]\n"
     ]
    }
   ],
   "source": [
    "import requests\n",
    "\n",
    "t = \"9d8dd86d5eac41401dd616d1dd5c1ddf91e2ce6b\"\n",
    "# t = \"a466afd7f72bc2fa574fa0e2c8d6bf5fb29a4a1d\"\n",
    "\n",
    "url = \"{0}/{1}/{2}/{3}{4}{5}{6}\"\n",
    "ROOT_API_URL = 'https://api.github.com'\n",
    "username = \"raivivek\"\n",
    "p = 1  # page number\n",
    "pp = 30  # results per page\n",
    "per_page = \"&per_page={}\".format(pp)\n",
    "page_number = \"?page={}\".format(p)\n",
    "token_arg = \"?access_token={}\".format(t)\n",
    "\n",
    "big_ls_parents = []\n",
    "\n",
    "endpoint = url.format(ROOT_API_URL, \"users\", username, \"followers\", page_number, per_page, token_arg)\n",
    "response = requests.get(endpoint).json()\n",
    "\n",
    "while response:  # while not empty\n",
    "    print(p)\n",
    "    page_number = \"?page={}\".format(p)\n",
    "    endpoint = url.format(ROOT_API_URL, \"users\", username, \"followers\", page_number, per_page, token_arg)\n",
    "    response = requests.get(endpoint).json()\n",
    "    parents = list(map(lambda x: x['login'], response))\n",
    "    print(parents)\n",
    "    big_ls_parents += parents\n",
    "    p += 1"
   ]
  },
  {
   "cell_type": "code",
   "execution_count": 3,
   "metadata": {},
   "outputs": [
    {
     "data": {
      "text/plain": [
       "143"
      ]
     },
     "execution_count": 3,
     "metadata": {},
     "output_type": "execute_result"
    }
   ],
   "source": [
    "len(big_ls_parents)"
   ]
  },
  {
   "cell_type": "code",
   "execution_count": null,
   "metadata": {
    "collapsed": true
   },
   "outputs": [],
   "source": []
  }
 ],
 "metadata": {
  "kernelspec": {
   "display_name": "Python 3",
   "language": "python",
   "name": "python3"
  },
  "language_info": {
   "codemirror_mode": {
    "name": "ipython",
    "version": 3
   },
   "file_extension": ".py",
   "mimetype": "text/x-python",
   "name": "python",
   "nbconvert_exporter": "python",
   "pygments_lexer": "ipython3",
   "version": "3.6.3"
  }
 },
 "nbformat": 4,
 "nbformat_minor": 2
}
